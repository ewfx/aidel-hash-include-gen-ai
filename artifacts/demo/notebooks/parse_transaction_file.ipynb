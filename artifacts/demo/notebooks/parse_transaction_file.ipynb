{
  "metadata": {
    "kernelspec": {
      "language": "python",
      "display_name": "Python 3",
      "name": "python3"
    },
    "language_info": {
      "name": "python",
      "version": "3.10.12",
      "mimetype": "text/x-python",
      "codemirror_mode": {
        "name": "ipython",
        "version": 3
      },
      "pygments_lexer": "ipython3",
      "nbconvert_exporter": "python",
      "file_extension": ".py"
    },
    "kaggle": {
      "accelerator": "none",
      "dataSources": [
        {
          "sourceId": 11150905,
          "sourceType": "datasetVersion",
          "datasetId": 6940234
        }
      ],
      "dockerImageVersionId": 30918,
      "isInternetEnabled": true,
      "language": "python",
      "sourceType": "notebook",
      "isGpuEnabled": false
    },
    "colab": {
      "provenance": []
    }
  },
  "nbformat_minor": 0,
  "nbformat": 4,
  "cells": [
    {
      "cell_type": "code",
      "source": [
        "pip install fuzzywuzzy"
      ],
      "metadata": {
        "colab": {
          "base_uri": "https://localhost:8080/"
        },
        "id": "GmQLo3OXcEWX",
        "outputId": "a587266f-f8ce-46d7-c19e-26b41ff2df00"
      },
      "execution_count": 59,
      "outputs": [
        {
          "output_type": "stream",
          "name": "stdout",
          "text": [
            "Requirement already satisfied: fuzzywuzzy in /usr/local/lib/python3.11/dist-packages (0.18.0)\n"
          ]
        }
      ]
    },
    {
      "cell_type": "code",
      "source": [
        "import spacy\n",
        "import re\n",
        "import pandas as pd\n",
        "from transformers import pipeline\n",
        "import os\n",
        "import json\n",
        "from fuzzywuzzy import fuzz, process"
      ],
      "metadata": {
        "trusted": true,
        "execution": {
          "iopub.status.busy": "2025-03-24T16:25:13.640331Z",
          "iopub.execute_input": "2025-03-24T16:25:13.640816Z",
          "iopub.status.idle": "2025-03-24T16:25:13.649491Z",
          "shell.execute_reply.started": "2025-03-24T16:25:13.640770Z",
          "shell.execute_reply": "2025-03-24T16:25:13.648162Z"
        },
        "id": "93VWz2mfbS72"
      },
      "outputs": [],
      "execution_count": 60
    },
    {
      "cell_type": "markdown",
      "source": [
        "# Loading the pre-trained model"
      ],
      "metadata": {
        "id": "FeN2-T_GbS73"
      }
    },
    {
      "cell_type": "code",
      "source": [
        "nlp = pipeline(\"ner\", model=\"dbmdz/bert-large-cased-finetuned-conll03-english\")"
      ],
      "metadata": {
        "trusted": true,
        "execution": {
          "iopub.status.busy": "2025-03-24T16:25:13.651106Z",
          "iopub.execute_input": "2025-03-24T16:25:13.651536Z",
          "iopub.status.idle": "2025-03-24T16:25:14.056396Z",
          "shell.execute_reply.started": "2025-03-24T16:25:13.651494Z",
          "shell.execute_reply": "2025-03-24T16:25:14.055313Z"
        },
        "colab": {
          "base_uri": "https://localhost:8080/"
        },
        "id": "ZAsd6BKQbS74",
        "outputId": "1adb70d3-6c7a-45e5-9dc8-6673c33450f3"
      },
      "outputs": [
        {
          "output_type": "stream",
          "name": "stderr",
          "text": [
            "Some weights of the model checkpoint at dbmdz/bert-large-cased-finetuned-conll03-english were not used when initializing BertForTokenClassification: ['bert.pooler.dense.bias', 'bert.pooler.dense.weight']\n",
            "- This IS expected if you are initializing BertForTokenClassification from the checkpoint of a model trained on another task or with another architecture (e.g. initializing a BertForSequenceClassification model from a BertForPreTraining model).\n",
            "- This IS NOT expected if you are initializing BertForTokenClassification from the checkpoint of a model that you expect to be exactly identical (initializing a BertForSequenceClassification model from a BertForSequenceClassification model).\n",
            "Device set to use cpu\n"
          ]
        }
      ],
      "execution_count": 61
    },
    {
      "cell_type": "markdown",
      "source": [
        "# Cleaning entities returned by the model"
      ],
      "metadata": {
        "id": "LofIOGm6bS74"
      }
    },
    {
      "cell_type": "code",
      "source": [
        "\n",
        "def clean_entities(entities):\n",
        "    cleaned_entities = []\n",
        "\n",
        "    for entity in entities:\n",
        "        entity = re.sub(r'\\b[A-Z]\\b', '', entity)\n",
        "        entity = re.sub(r'\\s+', ' ', entity).strip()\n",
        "        words = entity.split()\n",
        "        cleaned_entity = []\n",
        "        for word in words:\n",
        "            if len(word) > 1 or word in {\"EU\", \"USD\"}:\n",
        "                cleaned_entity.append(word)\n",
        "        cleaned_text = \" \".join(cleaned_entity)\n",
        "        if cleaned_text and cleaned_text not in cleaned_entities:\n",
        "            cleaned_entities.append(cleaned_text)\n",
        "\n",
        "    return cleaned_entities"
      ],
      "metadata": {
        "trusted": true,
        "execution": {
          "iopub.status.busy": "2025-03-24T16:25:14.058565Z",
          "iopub.execute_input": "2025-03-24T16:25:14.058838Z",
          "iopub.status.idle": "2025-03-24T16:25:14.064363Z",
          "shell.execute_reply.started": "2025-03-24T16:25:14.058814Z",
          "shell.execute_reply": "2025-03-24T16:25:14.063293Z"
        },
        "id": "v4oRfdpabS74"
      },
      "outputs": [],
      "execution_count": 62
    },
    {
      "cell_type": "markdown",
      "source": [
        "# Extract with the model"
      ],
      "metadata": {
        "id": "BMxbfSDzbS74"
      }
    },
    {
      "cell_type": "code",
      "source": [
        "def extract_spacy_entities_by_category(text):\n",
        "    doc = nlp(text)\n",
        "    result = {\"ORG\": [], \"PERSON\": [], \"GPE\": [], \"MONEY\": []}\n",
        "\n",
        "    entity_map = {\n",
        "        \"I-ORG\": \"ORG\",\n",
        "        \"I-PER\": \"PERSON\",\n",
        "        \"I-LOC\": \"GPE\",\n",
        "        \"I-MISC\": \"MONEY\"\n",
        "    }\n",
        "    current_entity = \"\"\n",
        "    current_label = \"\"\n",
        "    prev_label = None\n",
        "\n",
        "    for token in doc:\n",
        "        entity = token[\"entity\"]\n",
        "        word = token[\"word\"]\n",
        "        if entity in entity_map:\n",
        "            category = entity_map[entity]\n",
        "            if word.startswith(\"##\"):\n",
        "                word = word[2:]\n",
        "            if prev_label == entity:\n",
        "                current_entity += \" \" + word\n",
        "            else:\n",
        "                if current_entity and current_label:\n",
        "                    result[current_label].append(current_entity.strip())\n",
        "                current_entity = word\n",
        "                current_label = category\n",
        "            prev_label = entity\n",
        "        else:\n",
        "            if current_entity and current_label:\n",
        "                result[current_label].append(current_entity.strip())\n",
        "            current_entity = \"\"\n",
        "            current_label = \"\"\n",
        "            prev_label = None\n",
        "    if current_entity and current_label:\n",
        "        result[current_label].append(current_entity.strip())\n",
        "    for key in result:\n",
        "        result[key] = clean_entities(list(set(result[key])))\n",
        "\n",
        "    return result"
      ],
      "metadata": {
        "trusted": true,
        "execution": {
          "iopub.status.busy": "2025-03-24T16:25:14.065772Z",
          "iopub.execute_input": "2025-03-24T16:25:14.066069Z",
          "iopub.status.idle": "2025-03-24T16:25:14.081217Z",
          "shell.execute_reply.started": "2025-03-24T16:25:14.066045Z",
          "shell.execute_reply": "2025-03-24T16:25:14.080221Z"
        },
        "id": "wvRGv9scbS74"
      },
      "outputs": [],
      "execution_count": 63
    },
    {
      "cell_type": "code",
      "source": [
        "def extract_custom_entities_by_category(text):\n",
        "    result = {\"ORG\": [], \"PERSON\": []}\n",
        "    pattern_blocked_person = re.compile(r\"(Blocked Person [A-Z])\")\n",
        "    pattern_entity = re.compile(r\"(Entity [A-Z])\")\n",
        "\n",
        "    matches_blocked_person = pattern_blocked_person.findall(text)\n",
        "    matches_entity = pattern_entity.findall(text)\n",
        "\n",
        "    result[\"PERSON\"].extend(matches_blocked_person)\n",
        "    result[\"ORG\"].extend(matches_entity)\n",
        "\n",
        "    for key in result:\n",
        "        result[key] = list(set(result[key]))\n",
        "    return result"
      ],
      "metadata": {
        "trusted": true,
        "execution": {
          "iopub.status.busy": "2025-03-24T16:25:14.082350Z",
          "iopub.execute_input": "2025-03-24T16:25:14.082628Z",
          "iopub.status.idle": "2025-03-24T16:25:14.101371Z",
          "shell.execute_reply.started": "2025-03-24T16:25:14.082598Z",
          "shell.execute_reply": "2025-03-24T16:25:14.100237Z"
        },
        "id": "2ylkk2nMbS75"
      },
      "outputs": [],
      "execution_count": 64
    },
    {
      "cell_type": "code",
      "source": [
        "def combine_entities(text):\n",
        "    spacy_ents = extract_spacy_entities_by_category(text)\n",
        "    custom_ents = extract_custom_entities_by_category(text)\n",
        "\n",
        "    combined = {}\n",
        "    for category in [\"ORG\", \"PERSON\", \"GPE\", \"MONEY\"]:\n",
        "        combined[category] = list(set(spacy_ents.get(category, []) + custom_ents.get(category, [])))\n",
        "    return combined"
      ],
      "metadata": {
        "trusted": true,
        "execution": {
          "iopub.status.busy": "2025-03-24T16:25:14.102299Z",
          "iopub.execute_input": "2025-03-24T16:25:14.102545Z",
          "iopub.status.idle": "2025-03-24T16:25:14.121311Z",
          "shell.execute_reply.started": "2025-03-24T16:25:14.102523Z",
          "shell.execute_reply": "2025-03-24T16:25:14.120277Z"
        },
        "id": "wnzSMfVcbS75"
      },
      "outputs": [],
      "execution_count": 65
    },
    {
      "cell_type": "code",
      "source": [
        "def cluster_entities(entities, threshold=80):\n",
        "    unique_entities = list(set(entities))\n",
        "    clusters = {}\n",
        "\n",
        "    while unique_entities:\n",
        "        base = unique_entities.pop(0)\n",
        "        group = [base]\n",
        "        for entity in unique_entities[:]:\n",
        "            if fuzz.ratio(base.lower(), entity.lower()) >= threshold:\n",
        "                group.append(entity)\n",
        "                unique_entities.remove(entity)\n",
        "        clusters[base] = group\n",
        "\n",
        "    return clusters"
      ],
      "metadata": {
        "trusted": true,
        "execution": {
          "iopub.status.busy": "2025-03-24T16:25:14.122228Z",
          "iopub.execute_input": "2025-03-24T16:25:14.122562Z",
          "iopub.status.idle": "2025-03-24T16:25:14.143219Z",
          "shell.execute_reply.started": "2025-03-24T16:25:14.122529Z",
          "shell.execute_reply": "2025-03-24T16:25:14.142087Z"
        },
        "id": "WynxK9q8bS75"
      },
      "outputs": [],
      "execution_count": 66
    },
    {
      "cell_type": "code",
      "source": [
        "def standardize_entities(clusters):\n",
        "    standardized = []\n",
        "    for group in clusters.values():\n",
        "        representative = max(group, key=len)\n",
        "        standardized.append(representative)\n",
        "    return standardized"
      ],
      "metadata": {
        "trusted": true,
        "execution": {
          "iopub.status.busy": "2025-03-24T16:25:14.145790Z",
          "iopub.execute_input": "2025-03-24T16:25:14.146175Z",
          "iopub.status.idle": "2025-03-24T16:25:14.161316Z",
          "shell.execute_reply.started": "2025-03-24T16:25:14.146146Z",
          "shell.execute_reply": "2025-03-24T16:25:14.160220Z"
        },
        "id": "M0wZenPQbS75"
      },
      "outputs": [],
      "execution_count": 67
    },
    {
      "cell_type": "code",
      "source": [
        "def process_text_by_category(text):\n",
        "    combined = combine_entities(text)\n",
        "    final_results = {}\n",
        "    for category, ents in combined.items():\n",
        "        clusters = cluster_entities(ents)\n",
        "        final_results[category] = standardize_entities(clusters)\n",
        "    return final_results"
      ],
      "metadata": {
        "trusted": true,
        "execution": {
          "iopub.status.busy": "2025-03-24T16:25:14.162744Z",
          "iopub.execute_input": "2025-03-24T16:25:14.163090Z",
          "iopub.status.idle": "2025-03-24T16:25:14.178224Z",
          "shell.execute_reply.started": "2025-03-24T16:25:14.163054Z",
          "shell.execute_reply": "2025-03-24T16:25:14.177272Z"
        },
        "id": "8wxMih-RbS75"
      },
      "outputs": [],
      "execution_count": 68
    },
    {
      "cell_type": "markdown",
      "source": [
        "# Extract entities if JSON"
      ],
      "metadata": {
        "id": "2mZpuGKebS75"
      }
    },
    {
      "cell_type": "code",
      "source": [
        "def extract_entities_json(text):\n",
        "    entities = {}\n",
        "\n",
        "    # Regular expressions for extracting different fields\n",
        "    patterns = {\n",
        "        \"Transaction ID\": r\"Transaction ID:\\s*(\\S+)\",\n",
        "        \"Date\": r\"Date:\\s*([\\d-]+ \\d{2}:\\d{2}:\\d{2})\",\n",
        "        \"Sender Name\": r\"Sender:\\s*(?:- )?Name:\\s*\\\"?([^\\n\\\"]+)\\\"?\",\n",
        "        \"Sender Account\": r\"Sender:.*?Account:\\s*([\\w\\s\\(\\)-]+)\",\n",
        "        \"Sender Address\": r\"Sender:.*?Address:\\s*([^\\n]+)\",\n",
        "        \"Sender Beneficiary\": r\"Beneficiary Owner:\\s*\\\"([^\\\"]+)\\\"\",\n",
        "        \"Sender Notes\": r\"Sender:.*?Notes:\\s*\\\"([^\\\"]+)\\\"\",\n",
        "        \"Receiver Name\": r\"Receiver:\\s*(?:- )?Name:\\s*\\\"?([^\\n\\\"]+)\\\"?\",\n",
        "        \"Receiver Account\": r\"Receiver:.*?Account:\\s*([\\w\\s\\(\\)-]+)\",\n",
        "        \"Receiver Address\": r\"Receiver:.*?Address:\\s*([^\\n]+)\",\n",
        "        \"Receiver Tax ID\": r\"Receiver:.*?Tax ID:\\s*([\\w-]+)\",\n",
        "        \"Receiver Registration\": r\"Receiver:.*?Registration:\\s*([^\\n]+)\",\n",
        "        \"Amount\": r\"Amount:\\s*\\$([\\d,\\.]+)\",\n",
        "        \"Currency Exchange\": r\"Currency Exchange:\\s*([^\\n]+)\",\n",
        "        \"Transaction Type\": r\"Transaction Type:\\s*([^\\n]+)\",\n",
        "        \"Reference\": r\"Reference:\\s*\\\"([^\\\"]+)\\\"\",\n",
        "        \"Additional Notes\": r\"Additional Notes:\\s*(?:-\\s*\\\"([^\\\"]+)\\\"\\s*)+\"\n",
        "    }\n",
        "\n",
        "    # Extract data using regex\n",
        "    for key, pattern in patterns.items():\n",
        "        match = re.search(pattern, text)\n",
        "        entities[key] = [match.group(1) if match else \"\"]\n",
        "\n",
        "    return entities"
      ],
      "metadata": {
        "trusted": true,
        "execution": {
          "iopub.status.busy": "2025-03-24T16:25:14.179337Z",
          "iopub.execute_input": "2025-03-24T16:25:14.179655Z",
          "iopub.status.idle": "2025-03-24T16:25:14.196128Z",
          "shell.execute_reply.started": "2025-03-24T16:25:14.179623Z",
          "shell.execute_reply": "2025-03-24T16:25:14.194946Z"
        },
        "id": "nQo7WAPcbS75"
      },
      "outputs": [],
      "execution_count": 69
    },
    {
      "cell_type": "markdown",
      "source": [
        "# Split each data point"
      ],
      "metadata": {
        "id": "Xs0WsLzubS75"
      }
    },
    {
      "cell_type": "code",
      "source": [
        "def process_file(file_path):\n",
        "    file_extension = os.path.splitext(file_path)[1].lower()\n",
        "    if file_extension == \".txt\":\n",
        "        with open(file_path, 'r', encoding='utf-8') as file:\n",
        "            text = file.read()\n",
        "        transactions = text.split(\"---\")\n",
        "    elif file_extension==\".csv\":\n",
        "        transactions = pd.read_csv(file_path,delimiter = \",\")\n",
        "    return transactions,file_extension"
      ],
      "metadata": {
        "trusted": true,
        "execution": {
          "iopub.status.busy": "2025-03-24T16:25:14.197138Z",
          "iopub.execute_input": "2025-03-24T16:25:14.197395Z",
          "iopub.status.idle": "2025-03-24T16:25:14.217193Z",
          "shell.execute_reply.started": "2025-03-24T16:25:14.197372Z",
          "shell.execute_reply": "2025-03-24T16:25:14.216201Z"
        },
        "id": "HNb70D2VbS75"
      },
      "outputs": [],
      "execution_count": 70
    },
    {
      "cell_type": "markdown",
      "source": [
        "# Identifies if semi-structured or paragraph"
      ],
      "metadata": {
        "id": "RpujygupbS75"
      }
    },
    {
      "cell_type": "code",
      "source": [
        "def is_json(text):\n",
        "    structured_patterns = [\n",
        "        r\"Transaction ID:\\s*\\S+\",\n",
        "        r\"Sender:\\s*- Name:\",\n",
        "        r\"Receiver:\\s*- Name:\",\n",
        "        r\"Amount:\\s*\\$?\\d+\",\n",
        "    ]\n",
        "\n",
        "    for pattern in structured_patterns:\n",
        "        if re.search(pattern, text):\n",
        "            return True\n",
        "    return False"
      ],
      "metadata": {
        "trusted": true,
        "execution": {
          "iopub.status.busy": "2025-03-24T16:25:14.218171Z",
          "iopub.execute_input": "2025-03-24T16:25:14.218437Z",
          "iopub.status.idle": "2025-03-24T16:25:14.234215Z",
          "shell.execute_reply.started": "2025-03-24T16:25:14.218413Z",
          "shell.execute_reply": "2025-03-24T16:25:14.233041Z"
        },
        "id": "vJspAFjPbS75"
      },
      "outputs": [],
      "execution_count": 71
    },
    {
      "cell_type": "code",
      "source": [
        "def parse_transaction_file(file_path):\n",
        "    transactions,extension = process_file(file_path)\n",
        "    processed_df = None\n",
        "\n",
        "    json_data_list = []\n",
        "    para_data_list = []\n",
        "    if extension == \".txt\":\n",
        "        for j, transaction in enumerate(transactions):\n",
        "            if is_json(transaction):\n",
        "                results = extract_entities_json(transaction)\n",
        "                data = {key: ', '.join(value) for key, value in results.items()}\n",
        "                json_data_list.append(data)\n",
        "                df = pd.DataFrame(json_data_list)\n",
        "                df.replace(\"\", pd.NA, inplace=True)\n",
        "                processed_df = df.dropna(axis=1, how='all')\n",
        "                processed_df.to_csv('semi_structured.csv', index=False)\n",
        "            else:\n",
        "                results = process_text_by_category(transaction)\n",
        "                data = {key: ', '.join(value) for key, value in results.items()}\n",
        "                para_data_list.append(data)\n",
        "                processed_df = pd.DataFrame(para_data_list)\n",
        "                processed_df.to_csv('unstructured.csv', index=False)\n",
        "    else:\n",
        "        processed_df = transactions\n",
        "    processed_df = processed_df.fillna(\"NaN\")\n",
        "    return processed_df"
      ],
      "metadata": {
        "trusted": true,
        "execution": {
          "iopub.status.busy": "2025-03-24T16:25:14.234973Z",
          "iopub.execute_input": "2025-03-24T16:25:14.235342Z",
          "iopub.status.idle": "2025-03-24T16:25:14.308888Z",
          "shell.execute_reply.started": "2025-03-24T16:25:14.235315Z",
          "shell.execute_reply": "2025-03-24T16:25:14.307641Z"
        },
        "id": "fyL7GIQ1bS75"
      },
      "outputs": [],
      "execution_count": 72
    },
    {
      "cell_type": "markdown",
      "source": [
        "# Structured input"
      ],
      "metadata": {
        "id": "bojkEzbxc5M-"
      }
    },
    {
      "cell_type": "code",
      "source": [
        "df_unstructured = parse_transaction_file(\"/content/transactions.csv\")\n",
        "pd.set_option(\"display.max_columns\", None)\n",
        "pd.set_option(\"display.width\", 200)\n",
        "pd.set_option(\"display.colheader_justify\", \"center\")\n",
        "pd.set_option(\"display.max_colwidth\", None)\n",
        "print(df_unstructured.head())"
      ],
      "metadata": {
        "colab": {
          "base_uri": "https://localhost:8080/"
        },
        "id": "2pBtIy3vcnYu",
        "outputId": "b22a4da5-68d8-48b5-ad8f-d03dcb8520fe"
      },
      "execution_count": 73,
      "outputs": [
        {
          "output_type": "stream",
          "name": "stdout",
          "text": [
            "  Transaction ID         Date                   Sender Name                             Sender Account                              Sender Address                    Receiver Name                    Receiver Account                         Receiver Address                Amount  Transaction Type\n",
            "0  TXN-2023-5A9B  2023-08-15 14:22:00  Global Horizons Consulting LLC      IBAN CH56 0483 5012 3456 7800 9 (Swiss bank)  Rue du Marché 17, Geneva, Switzerland  Bright Future Nonprofit Inc  987654321 (Cayman National Bank, KY)  P.O. Box 1237, George Town, Cayman Islands   49850.0   Wire Transfer \n",
            "1  TXN-2023-7C8D  2023-09-10 11:30:00              Sunrise Trading Co  IBAN DE89 3704 0044 0532 0130 00 (Deutsche Bank)      Friedrichstr. 12, Berlin, Germany              Hope Foundation                  1122334455 (HSBC UK)               10 Downing Street, London, UK  105000.5   Wire Transfer \n",
            "2  TXN-2023-9X0Y  2023-11-20 16:45:00            FutureTech Solutions   IBAN US29 1234 5678 9101 1121 (Bank of America)       500 Silicon Valley Blvd, CA, USA      Global Aid Organization            5566778899 (Barclays Bank)           99 Charity Street, Nairobi, Kenya   75000.0     ACH Payment \n"
          ]
        }
      ]
    },
    {
      "cell_type": "markdown",
      "source": [
        "# Semi-structured input"
      ],
      "metadata": {
        "id": "4NNOunJNdiav"
      }
    },
    {
      "cell_type": "code",
      "source": [
        "df = parse_transaction_file(\"/content/entity_semistructured.txt\")\n",
        "pd.set_option(\"display.max_columns\", None)\n",
        "pd.set_option(\"display.expand_frame_repr\", False)\n",
        "pd.set_option(\"display.max_colwidth\", None)\n",
        "print(df.head())"
      ],
      "metadata": {
        "colab": {
          "base_uri": "https://localhost:8080/"
        },
        "id": "So7Mi1hjdgpD",
        "outputId": "b99e0fbc-ffc9-41b8-9b14-4fb8d34adcb0"
      },
      "execution_count": 74,
      "outputs": [
        {
          "output_type": "stream",
          "name": "stdout",
          "text": [
            "  Transaction ID         Date                   Sender Name           Sender Beneficiary        Receiver Name            Amount       Currency Exchange      Transaction Type                   Reference                                                    Additional Notes                               \n",
            "0  TXN-2023-7C2D  2023-08-15 14:25:00            Quantum Holdings Ltd   Maria Gonzalez       Golden Sands Trading FZE  950,000.00  EUR -> USD (Rate: 1.12)           SWIFT     Commodity Trade Settlement – Contract #DX-889           Invoice attached: 'Oil Equipment Procurement' (PDF missing metadata).\n",
            "1  TXN-2023-5A9B  2023-08-15 14:22:00  Global Horizons Consulting LLC              NaN    Bright Future Nonprofit Inc   49,850.00                        N/A   Wire Transfer         Charitable Donation - Ref #DR-2023-0815  Linked invoice missing. Processed via intermediary Quantum Holdings Ltd (BVI).\n"
          ]
        }
      ]
    },
    {
      "cell_type": "markdown",
      "source": [
        "# Unstructured input"
      ],
      "metadata": {
        "id": "-z4GKfsidXw0"
      }
    },
    {
      "cell_type": "code",
      "source": [
        "df = parse_transaction_file(\"/content/entity_unstructured.txt\")\n",
        "pd.set_option(\"display.max_columns\", None)\n",
        "pd.set_option(\"display.expand_frame_repr\", False)\n",
        "pd.set_option(\"display.max_colwidth\", None)\n",
        "print(df.head())"
      ],
      "metadata": {
        "colab": {
          "base_uri": "https://localhost:8080/"
        },
        "id": "KgZfr-pwdZ5F",
        "outputId": "20f345d1-aa9b-41fd-fcc4-d4c842ca5487"
      },
      "execution_count": 75,
      "outputs": [
        {
          "output_type": "stream",
          "name": "stdout",
          "text": [
            "                      ORG                           PERSON                 GPE            MONEY\n",
            "0                                    Entity B  Blocked Person X                                \n",
            "1  Alice Smith, John, SB Bank, Barclay London                Do  United Kingdom, New York      \n",
            "2                           Google LLC Morgan                                                  \n"
          ]
        }
      ]
    }
  ]
}